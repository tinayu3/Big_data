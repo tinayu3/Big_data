{
 "cells": [
  {
   "cell_type": "code",
   "execution_count": 1,
   "id": "8571c1d8",
   "metadata": {},
   "outputs": [],
   "source": [
    "import findspark\n",
    "findspark.init()"
   ]
  },
  {
   "cell_type": "code",
   "execution_count": 2,
   "id": "ae57a094",
   "metadata": {},
   "outputs": [],
   "source": [
    "from pyspark.sql import SparkSession\n",
    "spark = SparkSession.builder.master(\"local\").appName(\"RDD\").getOrCreate()"
   ]
  },
  {
   "cell_type": "code",
   "execution_count": 3,
   "id": "b4550360",
   "metadata": {},
   "outputs": [],
   "source": [
    "sc = spark.sparkContext"
   ]
  },
  {
   "cell_type": "code",
   "execution_count": 4,
   "id": "4f0bc377",
   "metadata": {},
   "outputs": [
    {
     "data": {
      "text/plain": [
       "'C:\\\\Users\\\\C940\\\\spark3\\\\movies.txt'"
      ]
     },
     "execution_count": 4,
     "metadata": {},
     "output_type": "execute_result"
    }
   ],
   "source": [
    "#To retrieve the location where movies.txt is stored in the computer location\n",
    "input_path = (r\"C:\\Users\\C940\\spark3\\movies.txt\")\n",
    "input_path"
   ]
  },
  {
   "cell_type": "code",
   "execution_count": 5,
   "id": "19e2ead1",
   "metadata": {},
   "outputs": [],
   "source": [
    "#To read the data in the textfile\n",
    "records =sc.textFile(input_path)"
   ]
  },
  {
   "cell_type": "code",
   "execution_count": 6,
   "id": "8bd3c3e1",
   "metadata": {},
   "outputs": [
    {
     "data": {
      "text/plain": [
       "20"
      ]
     },
     "execution_count": 6,
     "metadata": {},
     "output_type": "execute_result"
    }
   ],
   "source": [
    "#To make sure count of records is correct which = 20\n",
    "records.count()"
   ]
  },
  {
   "cell_type": "code",
   "execution_count": 7,
   "id": "64a16592",
   "metadata": {},
   "outputs": [
    {
     "data": {
      "text/plain": [
       "['user9,m1,5',\n",
       " 'user8,m2,4',\n",
       " 'user1,m1,2',\n",
       " 'user1,9',\n",
       " 'user1,m1,2',\n",
       " 'user2,m2,3',\n",
       " 'user2,m3,5',\n",
       " 'user3,m3,4',\n",
       " 'user6,m3,4',\n",
       " 'user7,m3,3',\n",
       " 'user3,king',\n",
       " 'user4,m1,3',\n",
       " 'user5,m2,5',\n",
       " 'user6,m4,5',\n",
       " 'user7,m5,5',\n",
       " 'user1',\n",
       " 'user3,m3,5',\n",
       " 'user4,m4,1',\n",
       " 'user5,m2,4',\n",
       " 'user6,m4,4']"
      ]
     },
     "execution_count": 7,
     "metadata": {},
     "output_type": "execute_result"
    }
   ],
   "source": [
    "#To retrieve all the elements of the dataset\n",
    "records.collect()"
   ]
  },
  {
   "cell_type": "code",
   "execution_count": 8,
   "id": "693e069f",
   "metadata": {},
   "outputs": [],
   "source": [
    "# Create (movieid, rating) pairs by tokenizing and splitting records\n",
    "def tokenize(record):\n",
    "    tokens = record.split(\",\")\n",
    "    movieid = tokens[0]\n",
    "    movieid = tokens[1]\n",
    "    rating = int(tokens[2])\n",
    "    return (movieid, rating)"
   ]
  },
  {
   "cell_type": "code",
   "execution_count": 9,
   "id": "6f90872f",
   "metadata": {},
   "outputs": [
    {
     "data": {
      "text/plain": [
       "('m1', 5)"
      ]
     },
     "execution_count": 9,
     "metadata": {},
     "output_type": "execute_result"
    }
   ],
   "source": [
    "# Test tokenize() function\n",
    "result1 = tokenize('user9,m1,5')\n",
    "result1"
   ]
  },
  {
   "cell_type": "code",
   "execution_count": 10,
   "id": "17979157",
   "metadata": {},
   "outputs": [],
   "source": [
    "# Drop records if there are less than 3 tokens\n",
    "CleanedRecords = records.filter(lambda x: (len(x.split(\",\")) >=3))"
   ]
  },
  {
   "cell_type": "code",
   "execution_count": 11,
   "id": "fcecf058",
   "metadata": {},
   "outputs": [
    {
     "data": {
      "text/plain": [
       "['user9,m1,5',\n",
       " 'user8,m2,4',\n",
       " 'user1,m1,2',\n",
       " 'user1,m1,2',\n",
       " 'user2,m2,3',\n",
       " 'user2,m3,5',\n",
       " 'user3,m3,4',\n",
       " 'user6,m3,4',\n",
       " 'user7,m3,3',\n",
       " 'user4,m1,3',\n",
       " 'user5,m2,5',\n",
       " 'user6,m4,5',\n",
       " 'user7,m5,5',\n",
       " 'user3,m3,5',\n",
       " 'user4,m4,1',\n",
       " 'user5,m2,4',\n",
       " 'user6,m4,4']"
      ]
     },
     "execution_count": 11,
     "metadata": {},
     "output_type": "execute_result"
    }
   ],
   "source": [
    "#To retrieve all the elements of the records after filtering out those records that have less than 3 tokens\n",
    "CleanedRecords.collect()"
   ]
  },
  {
   "cell_type": "code",
   "execution_count": 12,
   "id": "94f63f54",
   "metadata": {},
   "outputs": [],
   "source": [
    "#To tokenized records of the cleaned records such that movieID and rating is retrieved\n",
    "pairs = CleanedRecords.map(tokenize)"
   ]
  },
  {
   "cell_type": "code",
   "execution_count": 13,
   "id": "40caf604",
   "metadata": {},
   "outputs": [
    {
     "data": {
      "text/plain": [
       "[('m1', 5),\n",
       " ('m2', 4),\n",
       " ('m1', 2),\n",
       " ('m1', 2),\n",
       " ('m2', 3),\n",
       " ('m3', 5),\n",
       " ('m3', 4),\n",
       " ('m3', 4),\n",
       " ('m3', 3),\n",
       " ('m1', 3),\n",
       " ('m2', 5),\n",
       " ('m4', 5),\n",
       " ('m5', 5),\n",
       " ('m3', 5),\n",
       " ('m4', 1),\n",
       " ('m2', 4),\n",
       " ('m4', 4)]"
      ]
     },
     "execution_count": 13,
     "metadata": {},
     "output_type": "execute_result"
    }
   ],
   "source": [
    "#To retrieve all the elements of the records after tokenizing records\n",
    "pairs.collect()"
   ]
  },
  {
   "cell_type": "code",
   "execution_count": 14,
   "id": "27469181",
   "metadata": {},
   "outputs": [],
   "source": [
    "# Drop records if movie rating is less than 2\n",
    "filteredRating = pairs.filter(lambda x : x[1] >=2)"
   ]
  },
  {
   "cell_type": "code",
   "execution_count": 15,
   "id": "bd9849a0",
   "metadata": {},
   "outputs": [
    {
     "data": {
      "text/plain": [
       "[('m1', 5),\n",
       " ('m2', 4),\n",
       " ('m1', 2),\n",
       " ('m1', 2),\n",
       " ('m2', 3),\n",
       " ('m3', 5),\n",
       " ('m3', 4),\n",
       " ('m3', 4),\n",
       " ('m3', 3),\n",
       " ('m1', 3),\n",
       " ('m2', 5),\n",
       " ('m4', 5),\n",
       " ('m5', 5),\n",
       " ('m3', 5),\n",
       " ('m2', 4),\n",
       " ('m4', 4)]"
      ]
     },
     "execution_count": 15,
     "metadata": {},
     "output_type": "execute_result"
    }
   ],
   "source": [
    "#To retrieve all the elements of the records after filtering out movie_ids with rating less than 2\n",
    "filteredRating.collect()"
   ]
  },
  {
   "cell_type": "code",
   "execution_count": 16,
   "id": "152ca48b",
   "metadata": {},
   "outputs": [],
   "source": [
    "#A function to do as follows:\n",
    "#If rating is 5 then to return \"unique-5, movie id\" as well as movie id and rating\n",
    "#If rating is less than 5, to return movie id and rating\n",
    "def flatten(keyvalue):\n",
    "    movieid = keyvalue[0]\n",
    "    rating = keyvalue[1]\n",
    "    if rating == 5:\n",
    "        return [(movieid, rating),(\"unique-5\", movieid)]\n",
    "    else:\n",
    "        return [(movieid, rating)]"
   ]
  },
  {
   "cell_type": "code",
   "execution_count": 17,
   "id": "ac0f2d13",
   "metadata": {},
   "outputs": [],
   "source": [
    "#To apply the flatten function onto the filtered rating data\n",
    "flattened = filteredRating.flatMap(flatten)"
   ]
  },
  {
   "cell_type": "code",
   "execution_count": 18,
   "id": "9a14ca44",
   "metadata": {},
   "outputs": [
    {
     "data": {
      "text/plain": [
       "[('m1', 5),\n",
       " ('unique-5', 'm1'),\n",
       " ('m2', 4),\n",
       " ('m1', 2),\n",
       " ('m1', 2),\n",
       " ('m2', 3),\n",
       " ('m3', 5),\n",
       " ('unique-5', 'm3'),\n",
       " ('m3', 4),\n",
       " ('m3', 4),\n",
       " ('m3', 3),\n",
       " ('m1', 3),\n",
       " ('m2', 5),\n",
       " ('unique-5', 'm2'),\n",
       " ('m4', 5),\n",
       " ('unique-5', 'm4'),\n",
       " ('m5', 5),\n",
       " ('unique-5', 'm5'),\n",
       " ('m3', 5),\n",
       " ('unique-5', 'm3'),\n",
       " ('m2', 4),\n",
       " ('m4', 4)]"
      ]
     },
     "execution_count": 18,
     "metadata": {},
     "output_type": "execute_result"
    }
   ],
   "source": [
    "#To retrieve the elements where flatten function has been applied to filtered rating data\n",
    "flattened.collect()"
   ]
  },
  {
   "cell_type": "code",
   "execution_count": 19,
   "id": "652a60c6",
   "metadata": {},
   "outputs": [],
   "source": [
    "# To group the keys together with its list values\n",
    "group = flattened.groupByKey().mapValues(lambda values: list(values))"
   ]
  },
  {
   "cell_type": "code",
   "execution_count": 20,
   "id": "63a03521",
   "metadata": {},
   "outputs": [
    {
     "data": {
      "text/plain": [
       "[('m1', [5, 2, 2, 3]),\n",
       " ('unique-5', ['m1', 'm3', 'm2', 'm4', 'm5', 'm3']),\n",
       " ('m2', [4, 3, 5, 4]),\n",
       " ('m3', [5, 4, 4, 3, 5]),\n",
       " ('m4', [5, 4]),\n",
       " ('m5', [5])]"
      ]
     },
     "execution_count": 20,
     "metadata": {},
     "output_type": "execute_result"
    }
   ],
   "source": [
    "#To retrieve the elements where keys are grouped together with its values\n",
    "group.collect()"
   ]
  },
  {
   "cell_type": "code",
   "execution_count": 21,
   "id": "b1b00efa",
   "metadata": {},
   "outputs": [],
   "source": [
    "# To create reduction_finder function to do as follows:\n",
    "# if key is 'unique-5' then to return the key and its values\n",
    "# if key is not 'unique-5', then to return the key and the average rating\n",
    "def reduction_finder(keyvalue):\n",
    "    key = keyvalue[0]\n",
    "    values = keyvalue[1]\n",
    "    if (key == 'unique-5'):\n",
    "        return(key, set(values))\n",
    "    else:\n",
    "        avg = sum(values) / len(values)\n",
    "        if (avg >=2.5):\n",
    "            return(key, avg)"
   ]
  },
  {
   "cell_type": "code",
   "execution_count": 22,
   "id": "3486c417",
   "metadata": {},
   "outputs": [],
   "source": [
    "#To apply reduction_finder function to the grouped data\n",
    "result = group.map(reduction_finder)"
   ]
  },
  {
   "cell_type": "code",
   "execution_count": 23,
   "id": "8e0e62e7",
   "metadata": {},
   "outputs": [
    {
     "data": {
      "text/plain": [
       "[('m1', 3.0),\n",
       " ('unique-5', {'m1', 'm2', 'm3', 'm4', 'm5'}),\n",
       " ('m2', 4.0),\n",
       " ('m3', 4.2),\n",
       " ('m4', 4.5),\n",
       " ('m5', 5.0)]"
      ]
     },
     "execution_count": 23,
     "metadata": {},
     "output_type": "execute_result"
    }
   ],
   "source": [
    "#To retrieve the final result/output of the data\n",
    "result.collect()"
   ]
  },
  {
   "cell_type": "code",
   "execution_count": 30,
   "id": "4988f035",
   "metadata": {},
   "outputs": [],
   "source": [
    "from math import sqrt\n",
    " \n",
    "def isPrime(n):\n",
    " \n",
    "    # Corner case\n",
    "    if (n <= 1):\n",
    "        return False\n",
    " \n",
    "    # Check from 2 to sqrt(n)\n",
    "    for i in range(2, int(sqrt(n))+1):\n",
    "        if (n % i == 0):\n",
    "            return (n+1)\n",
    " \n",
    "    return n, (n+2)\n",
    " \n",
    " \n"
   ]
  },
  {
   "cell_type": "code",
   "execution_count": 33,
   "id": "2f06004a",
   "metadata": {},
   "outputs": [
    {
     "data": {
      "text/plain": [
       "9"
      ]
     },
     "execution_count": 33,
     "metadata": {},
     "output_type": "execute_result"
    }
   ],
   "source": [
    "isPrime(8)"
   ]
  },
  {
   "cell_type": "code",
   "execution_count": 29,
   "id": "cc208e8a",
   "metadata": {},
   "outputs": [
    {
     "ename": "TypeError",
     "evalue": "unsupported operand type(s) for %: 'list' and 'int'",
     "output_type": "error",
     "traceback": [
      "\u001b[1;31m---------------------------------------------------------------------------\u001b[0m",
      "\u001b[1;31mTypeError\u001b[0m                                 Traceback (most recent call last)",
      "\u001b[1;32m~\\AppData\\Local\\Temp/ipykernel_148120/3844477851.py\u001b[0m in \u001b[0;36m<module>\u001b[1;34m\u001b[0m\n\u001b[1;32m----> 1\u001b[1;33m \u001b[0misPrime2\u001b[0m\u001b[1;33m(\u001b[0m\u001b[0mdata\u001b[0m\u001b[1;33m)\u001b[0m\u001b[1;33m\u001b[0m\u001b[1;33m\u001b[0m\u001b[0m\n\u001b[0m",
      "\u001b[1;32m~\\AppData\\Local\\Temp/ipykernel_148120/2293176904.py\u001b[0m in \u001b[0;36misPrime2\u001b[1;34m(n)\u001b[0m\n\u001b[0;32m      1\u001b[0m \u001b[1;32mdef\u001b[0m \u001b[0misPrime2\u001b[0m\u001b[1;33m(\u001b[0m\u001b[0mn\u001b[0m\u001b[1;33m)\u001b[0m\u001b[1;33m:\u001b[0m\u001b[1;33m\u001b[0m\u001b[1;33m\u001b[0m\u001b[0m\n\u001b[0;32m      2\u001b[0m     \u001b[1;32mif\u001b[0m \u001b[0mn\u001b[0m\u001b[1;33m==\u001b[0m\u001b[1;36m2\u001b[0m \u001b[1;32mor\u001b[0m \u001b[0mn\u001b[0m\u001b[1;33m==\u001b[0m\u001b[1;36m3\u001b[0m\u001b[1;33m:\u001b[0m \u001b[1;32mreturn\u001b[0m \u001b[1;32mTrue\u001b[0m\u001b[1;33m\u001b[0m\u001b[1;33m\u001b[0m\u001b[0m\n\u001b[1;32m----> 3\u001b[1;33m     \u001b[1;32mif\u001b[0m \u001b[0mn\u001b[0m\u001b[1;33m%\u001b[0m\u001b[1;36m2\u001b[0m\u001b[1;33m==\u001b[0m\u001b[1;36m0\u001b[0m \u001b[1;32mor\u001b[0m \u001b[0mn\u001b[0m\u001b[1;33m<\u001b[0m\u001b[1;36m2\u001b[0m\u001b[1;33m:\u001b[0m \u001b[1;32mreturn\u001b[0m \u001b[1;32mFalse\u001b[0m\u001b[1;33m\u001b[0m\u001b[1;33m\u001b[0m\u001b[0m\n\u001b[0m\u001b[0;32m      4\u001b[0m     \u001b[1;32mfor\u001b[0m \u001b[0mi\u001b[0m \u001b[1;32min\u001b[0m \u001b[0mrange\u001b[0m\u001b[1;33m(\u001b[0m\u001b[1;36m3\u001b[0m\u001b[1;33m,\u001b[0m \u001b[0mint\u001b[0m\u001b[1;33m(\u001b[0m\u001b[0mn\u001b[0m\u001b[1;33m**\u001b[0m\u001b[1;36m0.5\u001b[0m\u001b[1;33m)\u001b[0m\u001b[1;33m+\u001b[0m\u001b[1;36m1\u001b[0m\u001b[1;33m,\u001b[0m \u001b[1;36m2\u001b[0m\u001b[1;33m)\u001b[0m\u001b[1;33m:\u001b[0m   \u001b[1;31m# only odd numbers\u001b[0m\u001b[1;33m\u001b[0m\u001b[1;33m\u001b[0m\u001b[0m\n\u001b[0;32m      5\u001b[0m         \u001b[1;32mif\u001b[0m \u001b[0mn\u001b[0m\u001b[1;33m%\u001b[0m\u001b[0mi\u001b[0m\u001b[1;33m==\u001b[0m\u001b[1;36m0\u001b[0m\u001b[1;33m:\u001b[0m\u001b[1;33m\u001b[0m\u001b[1;33m\u001b[0m\u001b[0m\n",
      "\u001b[1;31mTypeError\u001b[0m: unsupported operand type(s) for %: 'list' and 'int'"
     ]
    }
   ],
   "source": []
  },
  {
   "cell_type": "code",
   "execution_count": null,
   "id": "07190634",
   "metadata": {},
   "outputs": [],
   "source": []
  }
 ],
 "metadata": {
  "kernelspec": {
   "display_name": "Python 3 (ipykernel)",
   "language": "python",
   "name": "python3"
  },
  "language_info": {
   "codemirror_mode": {
    "name": "ipython",
    "version": 3
   },
   "file_extension": ".py",
   "mimetype": "text/x-python",
   "name": "python",
   "nbconvert_exporter": "python",
   "pygments_lexer": "ipython3",
   "version": "3.9.7"
  }
 },
 "nbformat": 4,
 "nbformat_minor": 5
}
