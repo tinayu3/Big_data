{
 "cells": [
  {
   "cell_type": "markdown",
   "id": "72386a55",
   "metadata": {},
   "source": [
    "#### RULE-1: Header to be used as metadata\n",
    "#### RULE-2: Convert column names into lowercase\n",
    "#### RULE-3: If a given record is missing visitor (just the last name of visitor) or visitee (just the last name of visitee) , \n",
    "#### then that record is dropped from all calculations\n",
    "#### RULE-4: All input must be converted to lowercase letters\n",
    "#### RULE-5: Your solution has to be generic and should be able to handle billions of records\n",
    "#### RULE-6: You have to pass input as a parameter to your PySpark program"
   ]
  },
  {
   "cell_type": "code",
   "execution_count": 2,
   "id": "cdd6d457",
   "metadata": {},
   "outputs": [],
   "source": [
    "#importing findspark\n",
    "import findspark\n",
    "findspark.init()"
   ]
  },
  {
   "cell_type": "code",
   "execution_count": 3,
   "id": "28fc7d8a",
   "metadata": {},
   "outputs": [],
   "source": [
    "# create a SparkSession object\n",
    "from pyspark.sql import SparkSession\n",
    "from pyspark.sql import functions as f\n",
    "from pyspark.sql.functions import count, col, min, max\n",
    "spark = SparkSession.builder.master(\"local\").appName(\"whitehouselog\").getOrCreate()\n",
    "#spark.conf.set('spark.sql.caseSensitive', True)\n",
    "from pyspark.sql.types import StringType\n",
    "from pyspark.sql.functions import udf"
   ]
  },
  {
   "cell_type": "code",
   "execution_count": 3,
   "id": "7c5275a8",
   "metadata": {},
   "outputs": [],
   "source": [
    "#To read the csv data together with header\n",
    "df_withheader = spark.read.csv(\"/Users/C940/spark3/whitehouselog.csv\")"
   ]
  },
  {
   "cell_type": "code",
   "execution_count": 4,
   "id": "ed24cd54",
   "metadata": {},
   "outputs": [
    {
     "data": {
      "text/plain": [
       "970505"
      ]
     },
     "execution_count": 4,
     "metadata": {},
     "output_type": "execute_result"
    }
   ],
   "source": [
    "#To get the total count of data plus the header\n",
    "df_withheader.count()"
   ]
  },
  {
   "cell_type": "code",
   "execution_count": 5,
   "id": "f74df202",
   "metadata": {},
   "outputs": [],
   "source": [
    "# Rule 1: To make the header as the metadata\n",
    "df = spark.read.csv(\"/Users/C940/spark3/whitehouselog.csv\", header=True)"
   ]
  },
  {
   "cell_type": "code",
   "execution_count": 6,
   "id": "8967f6f5",
   "metadata": {},
   "outputs": [
    {
     "name": "stdout",
     "output_type": "stream",
     "text": [
      "root\n",
      " |-- NAMELAST: string (nullable = true)\n",
      " |-- NAMEFIRST: string (nullable = true)\n",
      " |-- NAMEMID: string (nullable = true)\n",
      " |-- UIN: string (nullable = true)\n",
      " |-- BDGNBR: string (nullable = true)\n",
      " |-- ACCESS_TYPE: string (nullable = true)\n",
      " |-- TOA: string (nullable = true)\n",
      " |-- POA: string (nullable = true)\n",
      " |-- TOD: string (nullable = true)\n",
      " |-- POD: string (nullable = true)\n",
      " |-- APPT_MADE_DATE: string (nullable = true)\n",
      " |-- APPT_START_DATE: string (nullable = true)\n",
      " |-- APPT_END_DATE: string (nullable = true)\n",
      " |-- APPT_CANCEL_DATE: string (nullable = true)\n",
      " |-- Total_People: string (nullable = true)\n",
      " |-- LAST_UPDATEDBY: string (nullable = true)\n",
      " |-- POST: string (nullable = true)\n",
      " |-- LASTENTRYDATE: string (nullable = true)\n",
      " |-- TERMINAL_SUFFIX: string (nullable = true)\n",
      " |-- visitee_namelast: string (nullable = true)\n",
      " |-- visitee_namefirst: string (nullable = true)\n",
      " |-- MEETING_LOC: string (nullable = true)\n",
      " |-- MEETING_ROOM: string (nullable = true)\n",
      " |-- CALLER_NAME_LAST: string (nullable = true)\n",
      " |-- CALLER_NAME_FIRST: string (nullable = true)\n",
      " |-- CALLER_ROOM: string (nullable = true)\n",
      " |-- DESCRIPTION: string (nullable = true)\n",
      " |-- Release_Date: string (nullable = true)\n",
      "\n"
     ]
    }
   ],
   "source": [
    "#Print schema of dataframe\n",
    "df.printSchema()"
   ]
  },
  {
   "cell_type": "code",
   "execution_count": 7,
   "id": "0a345cb3",
   "metadata": {},
   "outputs": [
    {
     "data": {
      "text/plain": [
       "970504"
      ]
     },
     "execution_count": 7,
     "metadata": {},
     "output_type": "execute_result"
    }
   ],
   "source": [
    "#count of the content excluding header\n",
    "df.count()"
   ]
  },
  {
   "cell_type": "code",
   "execution_count": 8,
   "id": "f9ff954b",
   "metadata": {},
   "outputs": [
    {
     "name": "stdout",
     "output_type": "stream",
     "text": [
      "+---------------+---------+----------------+-----------------+\n",
      "|       NAMELAST|NAMEFIRST|visitee_namelast|visitee_namefirst|\n",
      "+---------------+---------+----------------+-----------------+\n",
      "|TAJOURIBESSASSI|   HANENE|        Pelofsky|             Eric|\n",
      "|        bageant|    laura|     Baskerville|           Steven|\n",
      "|       Broemson|     Earl|     Baskerville|           Steven|\n",
      "|    Jackling Jr|  William|     Baskerville|           Steven|\n",
      "|        McCrary|  Richard|     Baskerville|           Steven|\n",
      "|        Mulcahy|   Joshua|     Baskerville|           Steven|\n",
      "|           Ryan|   Oliver|     Baskerville|           Steven|\n",
      "|       Smith Jr|  William|     Baskerville|           Steven|\n",
      "|         Keeler|  Douglas|       Goldstein|             Jeff|\n",
      "|          DAVIS|   JUSTIN|            Drew|              MAJ|\n",
      "|         Glover|   Vinson|         Lengyel|            jason|\n",
      "|         Ambler|   Andrew|          OFFICE|         VISITORS|\n",
      "|         Ambler|     John|          OFFICE|         VISITORS|\n",
      "|       Anderson|    Cindy|          OFFICE|         VISITORS|\n",
      "|       Anderson|    Wayne|          OFFICE|         VISITORS|\n",
      "|        ANDRADE|   ANDREA|          OFFICE|         VISITORS|\n",
      "|        Arcelle|   Jeanne|          OFFICE|         VISITORS|\n",
      "|        Arcelle|     Mark|          OFFICE|         VISITORS|\n",
      "|         ARNOLD|   CURTIS|          OFFICE|         VISITORS|\n",
      "|          Baade|    Kraig|          OFFICE|         VISITORS|\n",
      "+---------------+---------+----------------+-----------------+\n",
      "only showing top 20 rows\n",
      "\n"
     ]
    }
   ],
   "source": [
    "#To show top 20 rows of the dataframe\n",
    "df.select(\"NAMELAST\",\"NAMEFIRST\", \"visitee_namelast\", \"visitee_namefirst\").show()"
   ]
  },
  {
   "cell_type": "code",
   "execution_count": null,
   "id": "f03129b9",
   "metadata": {},
   "outputs": [],
   "source": [
    "#Rule 2- To convert column names into lowercase\n",
    "df2 = df.select([f.col(x).alias(x.lower()) for x in df.columns])"
   ]
  },
  {
   "cell_type": "code",
   "execution_count": 10,
   "id": "92c86047",
   "metadata": {},
   "outputs": [],
   "source": [
    "def lower_case(str):\n",
    "    return str.lower()\n"
   ]
  },
  {
   "cell_type": "code",
   "execution_count": 11,
   "id": "7ee48750",
   "metadata": {},
   "outputs": [
    {
     "ename": "SyntaxError",
     "evalue": "invalid character '”' (U+201D) (Temp/ipykernel_53336/2036632366.py, line 1)",
     "output_type": "error",
     "traceback": [
      "\u001b[1;36m  File \u001b[1;32m\"C:\\Users\\C940\\AppData\\Local\\Temp/ipykernel_53336/2036632366.py\"\u001b[1;36m, line \u001b[1;32m1\u001b[0m\n\u001b[1;33m    df.withColumn(”Lowercasename\", lower_case(col(\"Name\")))\u001b[0m\n\u001b[1;37m                  ^\u001b[0m\n\u001b[1;31mSyntaxError\u001b[0m\u001b[1;31m:\u001b[0m invalid character '”' (U+201D)\n"
     ]
    }
   ],
   "source": [
    "df.withColumn(”Lowercasename\", lower_case(col(\"NAM\"))).show(truncate=False)"
   ]
  },
  {
   "cell_type": "code",
   "execution_count": null,
   "id": "2cc77bf1",
   "metadata": {},
   "outputs": [],
   "source": [
    "df2.printSchema()"
   ]
  },
  {
   "cell_type": "code",
   "execution_count": null,
   "id": "5856c8ca",
   "metadata": {},
   "outputs": [],
   "source": [
    "#Rule 3-If a given record is missing visitor (just the last name of visitor), dropped from calculation\n",
    "df3 = df2.filter(df2.namelast.isNotNull())"
   ]
  },
  {
   "cell_type": "code",
   "execution_count": null,
   "id": "c17bbc19",
   "metadata": {},
   "outputs": [],
   "source": [
    "#Count of df3\n",
    "df3.count()"
   ]
  },
  {
   "cell_type": "code",
   "execution_count": null,
   "id": "5b82931b",
   "metadata": {},
   "outputs": [],
   "source": [
    "#Rule 3-If a given record is missing visitee (just the last name of visitee), dropped from calculation\n",
    "df_final = df3.filter(df3.visitee_namelast.isNotNull())"
   ]
  },
  {
   "cell_type": "code",
   "execution_count": null,
   "id": "e22aac50",
   "metadata": {},
   "outputs": [],
   "source": [
    "#Final count after record for missing visitee (last name) and visitor(last name) dropped from calculation\n",
    "df_final.count() "
   ]
  },
  {
   "cell_type": "code",
   "execution_count": null,
   "id": "e89ff55e",
   "metadata": {},
   "outputs": [],
   "source": [
    "#To view top 20 rows\n",
    "df_final.select(\"namelast\",\"namefirst\", \"visitee_namelast\", \"visitee_namefirst\").show()"
   ]
  },
  {
   "cell_type": "code",
   "execution_count": null,
   "id": "af8ec8bd",
   "metadata": {},
   "outputs": [],
   "source": [
    "#Rule 4- All input to be converted to lowercase letters\n",
    "expression = [ f.lower(f.col(x)).alias(x) for x in df_final.columns ]"
   ]
  },
  {
   "cell_type": "code",
   "execution_count": null,
   "id": "b8edecf6",
   "metadata": {},
   "outputs": [],
   "source": [
    "df_lower = df_final.select(*expression)"
   ]
  },
  {
   "cell_type": "code",
   "execution_count": null,
   "id": "0a82b424",
   "metadata": {},
   "outputs": [],
   "source": [
    "#To check if all input is converted into lowercase letters\n",
    "df_lower.select('namelast', 'namefirst', 'visitee_namelast', 'visitee_namefirst').show()"
   ]
  },
  {
   "cell_type": "markdown",
   "id": "9c902c5d",
   "metadata": {},
   "source": [
    "## a) To retrieve Top 10 frequent visitors to whitehouse"
   ]
  },
  {
   "cell_type": "code",
   "execution_count": null,
   "id": "e3da202d",
   "metadata": {},
   "outputs": [],
   "source": [
    "#To concatenate the visitor namelast and namefirst into fullname_visitor\n",
    "df_visitor = df_lower.withColumn('fullname_visitor', f.concat(f.col('namelast'), f.lit(','), f.col('namefirst')))"
   ]
  },
  {
   "cell_type": "code",
   "execution_count": null,
   "id": "34460164",
   "metadata": {},
   "outputs": [],
   "source": [
    "#To show the full name (visitor) of namelast and namefirst without truncation\n",
    "df_visitor.select('fullname_visitor').show(truncate=False)"
   ]
  },
  {
   "cell_type": "code",
   "execution_count": null,
   "id": "50b34995",
   "metadata": {},
   "outputs": [],
   "source": [
    "#To group by fullname_visitor and get the count/frequency of names appearing in the dataframe\n",
    "df_visitor_findtop10 = df_visitor.groupBy('fullname_visitor').agg(count('fullname_visitor').alias('frequency'))"
   ]
  },
  {
   "cell_type": "code",
   "execution_count": null,
   "id": "a65c3aab",
   "metadata": {},
   "outputs": [],
   "source": [
    "#To orderby count/frequency in descending order\n",
    "df_top10_visitor = df_visitor_findtop10.orderBy(col('frequency').desc())"
   ]
  },
  {
   "cell_type": "code",
   "execution_count": null,
   "id": "57820c31",
   "metadata": {},
   "outputs": [],
   "source": [
    "#To display top 10 visitors to whitehouse in a dataframe\n",
    "df_top10_visitor.limit(10).show()"
   ]
  },
  {
   "cell_type": "markdown",
   "id": "7a6a1d65",
   "metadata": {},
   "source": [
    "## b) To retrieve Top 10 frequent visitee to whitehouse"
   ]
  },
  {
   "cell_type": "code",
   "execution_count": null,
   "id": "f4cd6d75",
   "metadata": {},
   "outputs": [],
   "source": [
    "#To concatenate the visitee namelast and vsitee namefirst into fullname_visitee\n",
    "df_visitee=df_lower.withColumn('fullname_visitee',f.concat(f.col('visitee_namelast'),f.lit(','),f.col('visitee_namefirst')))"
   ]
  },
  {
   "cell_type": "code",
   "execution_count": null,
   "id": "afa99da7",
   "metadata": {},
   "outputs": [],
   "source": [
    "#To show the full name of visitee namelast and namefirst without truncation\n",
    "df_visitee.select('fullname_visitee').show()"
   ]
  },
  {
   "cell_type": "code",
   "execution_count": null,
   "id": "7b4247fe",
   "metadata": {},
   "outputs": [],
   "source": [
    "#To group by fullname_visitee and get the count/frequency of names appearing in the dataframe\n",
    "df_visitee_findtop10 = df_visitee.groupBy('fullname_visitee').agg(count('fullname_visitee').alias('frequency'))"
   ]
  },
  {
   "cell_type": "code",
   "execution_count": null,
   "id": "e49be4ef",
   "metadata": {},
   "outputs": [],
   "source": [
    "#To orderby count/frequency in descending order\n",
    "df_top10_visitee = df_visitee_findtop10.orderBy(col('frequency').desc())"
   ]
  },
  {
   "cell_type": "code",
   "execution_count": null,
   "id": "d2decb3c",
   "metadata": {},
   "outputs": [],
   "source": [
    "#To display top 10 visitee to whitehouse in a dataframe\n",
    "df_top10_visitee.limit(10).show()"
   ]
  },
  {
   "cell_type": "markdown",
   "id": "b5aa32cf",
   "metadata": {},
   "source": [
    "## c) To retrieve Top 10 frequent visitor-visitee to whitehouse"
   ]
  },
  {
   "cell_type": "code",
   "execution_count": null,
   "id": "ee0d8698",
   "metadata": {},
   "outputs": [],
   "source": [
    "#To concatenate the visitor-visitee namelast and namefirst into fullname_visitorvisitee\n",
    "df_visitor_visitee = df_lower.withColumn(\"fullname_visitorvisitee\",f.concat(col(\"namelast\"),f.lit(','),\n",
    "    col(\"namefirst\"),f.lit(' - '),col(\"visitee_namelast\"), f.lit(','), col(\"visitee_namefirst\")))"
   ]
  },
  {
   "cell_type": "code",
   "execution_count": null,
   "id": "306a2c95",
   "metadata": {},
   "outputs": [],
   "source": [
    "#To show the fullname_visitorvisitee without truncation\n",
    "df_visitor_visitee.select(\"fullname_visitorvisitee\").show(truncate=False)"
   ]
  },
  {
   "cell_type": "code",
   "execution_count": null,
   "id": "2dd4c4c2",
   "metadata": {},
   "outputs": [],
   "source": [
    "#To group by fullname_visitorvisitee and get the count/frequency of names appearing in the dataframe\n",
    "df_visitorvisitee_findtop10=df_visitor_visitee.groupBy('fullname_visitorvisitee').\\\n",
    "                           agg(count('fullname_visitorvisitee').alias('frequency'))"
   ]
  },
  {
   "cell_type": "code",
   "execution_count": null,
   "id": "c8b43194",
   "metadata": {},
   "outputs": [],
   "source": [
    "#To orderby count/frequency in descending order\n",
    "df_top10_visitor_visitee = df_visitorvisitee_findtop10.orderBy(col('frequency').desc())"
   ]
  },
  {
   "cell_type": "code",
   "execution_count": null,
   "id": "391e17dd",
   "metadata": {},
   "outputs": [],
   "source": [
    "#To display top 10 visitor-visitee to whitehouse in a dataframe\n",
    "df_top10_visitor_visitee.limit(10).show(truncate=False)"
   ]
  },
  {
   "cell_type": "markdown",
   "id": "5180a5a2",
   "metadata": {},
   "source": [
    "## d) Number of records dropped from the data"
   ]
  },
  {
   "cell_type": "code",
   "execution_count": null,
   "id": "c3204a22",
   "metadata": {},
   "outputs": [],
   "source": [
    "#Total number of records including header minus Final count after record for missing visitee & visitor (last name)\n",
    "difference = df_withheader.count() - df_final.count()\n",
    "difference\n",
    "print(\"The number of records dropped from data is:\", difference)"
   ]
  },
  {
   "cell_type": "markdown",
   "id": "706ced5e",
   "metadata": {},
   "source": [
    "## To stop spark session"
   ]
  }
 ],
 "metadata": {
  "kernelspec": {
   "display_name": "Python 3 (ipykernel)",
   "language": "python",
   "name": "python3"
  },
  "language_info": {
   "codemirror_mode": {
    "name": "ipython",
    "version": 3
   },
   "file_extension": ".py",
   "mimetype": "text/x-python",
   "name": "python",
   "nbconvert_exporter": "python",
   "pygments_lexer": "ipython3",
   "version": "3.9.7"
  }
 },
 "nbformat": 4,
 "nbformat_minor": 5
}
