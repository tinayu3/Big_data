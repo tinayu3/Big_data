{
 "cells": [
  {
   "cell_type": "code",
   "execution_count": 1,
   "id": "46e77c04",
   "metadata": {},
   "outputs": [],
   "source": [
    "#importing findspark\n",
    "import findspark\n",
    "findspark.init()\n"
   ]
  },
  {
   "cell_type": "code",
   "execution_count": 91,
   "id": "8604c1e9",
   "metadata": {},
   "outputs": [],
   "source": [
    "# create a SparkSession object\n",
    "from pyspark.sql import SparkSession\n",
    "from pyspark.sql import functions as f\n",
    "from pyspark.sql.functions import count, col, min, max\n",
    "spark = SparkSession.builder.master(\"local\").appName(\"whitehouselog\").getOrCreate()\n",
    "#spark.conf.set('spark.sql.caseSensitive', True)\n",
    "from pyspark.sql.types import StringType\n",
    "from pyspark.sql.functions import udf\n",
    "from pyspark.sql.functions import split"
   ]
  },
  {
   "cell_type": "code",
   "execution_count": 3,
   "id": "155fb373",
   "metadata": {},
   "outputs": [],
   "source": [
    "sc = spark.sparkContext"
   ]
  },
  {
   "cell_type": "code",
   "execution_count": 4,
   "id": "d93bc68d",
   "metadata": {},
   "outputs": [],
   "source": [
    "data = [(\"alex\", [1,2]) , (\"jane\", []) , (\"ted\", [1,2,3])]\n",
    "columns = [\"name\", \"tricks\"]"
   ]
  },
  {
   "cell_type": "code",
   "execution_count": 5,
   "id": "5844d391",
   "metadata": {},
   "outputs": [
    {
     "name": "stdout",
     "output_type": "stream",
     "text": [
      "+----+---------+\n",
      "|name|tricks   |\n",
      "+----+---------+\n",
      "|alex|[1, 2]   |\n",
      "|jane|[]       |\n",
      "|ted |[1, 2, 3]|\n",
      "+----+---------+\n",
      "\n"
     ]
    }
   ],
   "source": [
    "df = spark.createDataFrame(data=data,schema=columns)\n",
    "df.show(truncate=False)"
   ]
  },
  {
   "cell_type": "code",
   "execution_count": 6,
   "id": "291fc2b8",
   "metadata": {},
   "outputs": [
    {
     "name": "stdout",
     "output_type": "stream",
     "text": [
      "+----+---------+----------+\n",
      "|name|   tricks|num_tricks|\n",
      "+----+---------+----------+\n",
      "|alex|   [1, 2]|         2|\n",
      "|jane|       []|         0|\n",
      "| ted|[1, 2, 3]|         3|\n",
      "+----+---------+----------+\n",
      "\n"
     ]
    }
   ],
   "source": [
    "df2 = df.withColumn(\"num_tricks\", f.size(col(\"tricks\")))\n",
    "df2.show()"
   ]
  },
  {
   "cell_type": "code",
   "execution_count": 7,
   "id": "0ea64412",
   "metadata": {},
   "outputs": [],
   "source": [
    "df3 = df2.filter(df2.num_tricks > 1)"
   ]
  },
  {
   "cell_type": "code",
   "execution_count": 8,
   "id": "c40588a3",
   "metadata": {},
   "outputs": [
    {
     "name": "stdout",
     "output_type": "stream",
     "text": [
      "+----+---------+----------+\n",
      "|name|   tricks|num_tricks|\n",
      "+----+---------+----------+\n",
      "|alex|   [1, 2]|         2|\n",
      "| ted|[1, 2, 3]|         3|\n",
      "+----+---------+----------+\n",
      "\n"
     ]
    }
   ],
   "source": [
    "df3.show()"
   ]
  },
  {
   "cell_type": "code",
   "execution_count": 9,
   "id": "045b2426",
   "metadata": {},
   "outputs": [
    {
     "name": "stdout",
     "output_type": "stream",
     "text": [
      "+----+---------+----------+\n",
      "|name|   tricks|num_tricks|\n",
      "+----+---------+----------+\n",
      "| ted|[1, 2, 3]|         3|\n",
      "|alex|   [1, 2]|         2|\n",
      "|jane|       []|         0|\n",
      "+----+---------+----------+\n",
      "\n"
     ]
    }
   ],
   "source": [
    "df2 = df2.orderBy(\"num_tricks\",ascending=False).limit(5).show()"
   ]
  },
  {
   "cell_type": "code",
   "execution_count": 10,
   "id": "ec35286a",
   "metadata": {},
   "outputs": [],
   "source": [
    "df4 = df.select(df.name,(f.explode(df.tricks).alias(\"Trick Number\")))"
   ]
  },
  {
   "cell_type": "code",
   "execution_count": 11,
   "id": "564e2b9f",
   "metadata": {},
   "outputs": [
    {
     "name": "stdout",
     "output_type": "stream",
     "text": [
      "+----+------------+\n",
      "|name|Trick Number|\n",
      "+----+------------+\n",
      "|alex|           1|\n",
      "|alex|           2|\n",
      "| ted|           1|\n",
      "| ted|           2|\n",
      "| ted|           3|\n",
      "+----+------------+\n",
      "\n"
     ]
    }
   ],
   "source": [
    "df4.show()"
   ]
  },
  {
   "cell_type": "code",
   "execution_count": 12,
   "id": "08f74f8c",
   "metadata": {},
   "outputs": [],
   "source": [
    "df5 = df4.groupBy('Trick Number').agg(f.count('Trick Number').alias('my_count'))"
   ]
  },
  {
   "cell_type": "code",
   "execution_count": 13,
   "id": "7594f8a5",
   "metadata": {},
   "outputs": [
    {
     "name": "stdout",
     "output_type": "stream",
     "text": [
      "+------------+--------+\n",
      "|Trick Number|my_count|\n",
      "+------------+--------+\n",
      "|           1|       2|\n",
      "|           3|       1|\n",
      "|           2|       2|\n",
      "+------------+--------+\n",
      "\n"
     ]
    }
   ],
   "source": [
    "df5.show()"
   ]
  },
  {
   "cell_type": "code",
   "execution_count": 14,
   "id": "29fe43ca",
   "metadata": {},
   "outputs": [
    {
     "name": "stdout",
     "output_type": "stream",
     "text": [
      "+------------+--------+\n",
      "|Trick Number|my_count|\n",
      "+------------+--------+\n",
      "|           2|       2|\n",
      "|           1|       2|\n",
      "|           3|       1|\n",
      "+------------+--------+\n",
      "\n"
     ]
    }
   ],
   "source": [
    "df5.sort('my_count', ascending=False).show()"
   ]
  },
  {
   "cell_type": "code",
   "execution_count": 15,
   "id": "08fcca7b",
   "metadata": {},
   "outputs": [],
   "source": [
    "df6 = df.filter(df.name.isNotNull())"
   ]
  },
  {
   "cell_type": "code",
   "execution_count": 16,
   "id": "7f0112c4",
   "metadata": {},
   "outputs": [
    {
     "name": "stdout",
     "output_type": "stream",
     "text": [
      "+----+---------+\n",
      "|name|   tricks|\n",
      "+----+---------+\n",
      "|alex|   [1, 2]|\n",
      "|jane|       []|\n",
      "| ted|[1, 2, 3]|\n",
      "+----+---------+\n",
      "\n"
     ]
    }
   ],
   "source": [
    "df6.show()"
   ]
  },
  {
   "cell_type": "code",
   "execution_count": 17,
   "id": "d5442e26",
   "metadata": {},
   "outputs": [],
   "source": [
    "df6 = df6.withColumn(\"num_tricks\", f.size(col(\"tricks\")))"
   ]
  },
  {
   "cell_type": "code",
   "execution_count": 18,
   "id": "418abeff",
   "metadata": {},
   "outputs": [
    {
     "name": "stdout",
     "output_type": "stream",
     "text": [
      "+----+---------+----------+\n",
      "|name|   tricks|num_tricks|\n",
      "+----+---------+----------+\n",
      "|alex|   [1, 2]|         2|\n",
      "|jane|       []|         0|\n",
      "| ted|[1, 2, 3]|         3|\n",
      "+----+---------+----------+\n",
      "\n"
     ]
    }
   ],
   "source": [
    "df6.show()"
   ]
  },
  {
   "cell_type": "code",
   "execution_count": 19,
   "id": "bbb52fa9",
   "metadata": {},
   "outputs": [],
   "source": [
    "filtered = df6.filter(df6.num_tricks == 0)"
   ]
  },
  {
   "cell_type": "code",
   "execution_count": 20,
   "id": "d0c665c3",
   "metadata": {},
   "outputs": [
    {
     "name": "stdout",
     "output_type": "stream",
     "text": [
      "+----------+\n",
      "|num_tricks|\n",
      "+----------+\n",
      "|         0|\n",
      "+----------+\n",
      "\n"
     ]
    }
   ],
   "source": [
    "filtered.select('num_tricks').show()"
   ]
  },
  {
   "cell_type": "code",
   "execution_count": 21,
   "id": "47ee38b5",
   "metadata": {},
   "outputs": [
    {
     "name": "stdout",
     "output_type": "stream",
     "text": [
      "+----+\n",
      "|name|\n",
      "+----+\n",
      "|jane|\n",
      "+----+\n",
      "\n"
     ]
    }
   ],
   "source": [
    "filtered.select(df6.name).distinct().show()"
   ]
  },
  {
   "cell_type": "code",
   "execution_count": 22,
   "id": "f62b6488",
   "metadata": {},
   "outputs": [],
   "source": [
    "filtered2= df6.filter(df6.num_tricks > 1)"
   ]
  },
  {
   "cell_type": "code",
   "execution_count": 23,
   "id": "a294fc55",
   "metadata": {},
   "outputs": [
    {
     "name": "stdout",
     "output_type": "stream",
     "text": [
      "+----+\n",
      "|name|\n",
      "+----+\n",
      "| ted|\n",
      "|alex|\n",
      "+----+\n",
      "\n"
     ]
    }
   ],
   "source": [
    "filtered2.select(df6.name).distinct().show()"
   ]
  },
  {
   "cell_type": "code",
   "execution_count": 24,
   "id": "64465d93",
   "metadata": {},
   "outputs": [],
   "source": [
    "data2 = [(\"g1\", \"1\", \"2.3\") , (\"g1\", \"2\", \"1.5\") , (\"g1\", \"3\", \"2.5\"), (\"g1\", \"1\", \"4.1\"), (\"g2\", \"1\", \"1.3\"), \n",
    "        (\"g2\", \"2\", \"1.8\"), (\"g2\", \"3\", \"3.5\"), (\"g2\", \"1\", \"4.3\"), (\"g2\", \"1\", \"2.9\")]\n",
    "\n",
    "columns = [\"geneID\", \"reference\", \"geneValue\"]\n",
    "\n"
   ]
  },
  {
   "cell_type": "code",
   "execution_count": 25,
   "id": "1ae17b07",
   "metadata": {},
   "outputs": [
    {
     "name": "stdout",
     "output_type": "stream",
     "text": [
      "+------+---------+---------+\n",
      "|geneID|reference|geneValue|\n",
      "+------+---------+---------+\n",
      "|g1    |1        |2.3      |\n",
      "|g1    |2        |1.5      |\n",
      "|g1    |3        |2.5      |\n",
      "|g1    |1        |4.1      |\n",
      "|g2    |1        |1.3      |\n",
      "|g2    |2        |1.8      |\n",
      "|g2    |3        |3.5      |\n",
      "|g2    |1        |4.3      |\n",
      "|g2    |1        |2.9      |\n",
      "+------+---------+---------+\n",
      "\n"
     ]
    }
   ],
   "source": [
    "dataframe = spark.createDataFrame(data=data2,schema=columns)\n",
    "dataframe.show(truncate=False)"
   ]
  },
  {
   "cell_type": "code",
   "execution_count": 26,
   "id": "1dc540f0",
   "metadata": {},
   "outputs": [],
   "source": [
    "gene_path = \"/tmp/gene.txt\"\n",
    "rdd_gene = sc.textFile(gene_path)"
   ]
  },
  {
   "cell_type": "code",
   "execution_count": 27,
   "id": "6e86ce34",
   "metadata": {},
   "outputs": [],
   "source": [
    "df=dataframe"
   ]
  },
  {
   "cell_type": "code",
   "execution_count": 28,
   "id": "05b473fc",
   "metadata": {},
   "outputs": [],
   "source": [
    "df_g1 = df.filter(df.reference == '1')"
   ]
  },
  {
   "cell_type": "code",
   "execution_count": 29,
   "id": "afb2bb73",
   "metadata": {},
   "outputs": [],
   "source": [
    "df_geneID = df_g1.groupBy('geneID').agg({'reference' : 'count', 'geneValue' : 'sum'})"
   ]
  },
  {
   "cell_type": "code",
   "execution_count": 30,
   "id": "566eaf11",
   "metadata": {},
   "outputs": [
    {
     "name": "stdout",
     "output_type": "stream",
     "text": [
      "+------+----------------+------------------+\n",
      "|geneID|count(reference)|    sum(geneValue)|\n",
      "+------+----------------+------------------+\n",
      "|    g2|               3|               8.5|\n",
      "|    g1|               2|6.3999999999999995|\n",
      "+------+----------------+------------------+\n",
      "\n"
     ]
    }
   ],
   "source": [
    "df_geneID.show()"
   ]
  },
  {
   "cell_type": "code",
   "execution_count": 31,
   "id": "172a261b",
   "metadata": {},
   "outputs": [
    {
     "name": "stdout",
     "output_type": "stream",
     "text": [
      "+------+---------+---------+\n",
      "|geneID|reference|geneValue|\n",
      "+------+---------+---------+\n",
      "|    g1|        1|      2.3|\n",
      "|    g1|        2|      1.5|\n",
      "|    g1|        1|      4.1|\n",
      "|    g2|        1|      1.3|\n",
      "|    g2|        2|      1.8|\n",
      "|    g2|        1|      4.3|\n",
      "|    g2|        1|      2.9|\n",
      "+------+---------+---------+\n",
      "\n"
     ]
    }
   ],
   "source": [
    "df.filter(df.reference < 3).show()"
   ]
  },
  {
   "cell_type": "code",
   "execution_count": 32,
   "id": "50f37e37",
   "metadata": {},
   "outputs": [
    {
     "name": "stdout",
     "output_type": "stream",
     "text": [
      "+------+-------+------+\n",
      "|userId|movieId|rating|\n",
      "+------+-------+------+\n",
      "|user1 |m1     |3     |\n",
      "|user1 |m1     |1     |\n",
      "|user1 |m2     |5     |\n",
      "|user2 |m1     |4     |\n",
      "+------+-------+------+\n",
      "\n"
     ]
    }
   ],
   "source": [
    "data = [('user1', 'm1','3'), ('user1', 'm1', '1'), ('user1', 'm2', '5'), ('user2', 'm1', '4')]\n",
    "\n",
    "columns = ['userId', 'movieId', 'rating']\n",
    "\n",
    "df = spark.createDataFrame(data=data, schema=columns)\n",
    "\n",
    "df.show(truncate=False)"
   ]
  },
  {
   "cell_type": "code",
   "execution_count": 33,
   "id": "bdd460fb",
   "metadata": {},
   "outputs": [],
   "source": [
    "df_groupby = df.groupBy('movieID').agg(count('userID'))"
   ]
  },
  {
   "cell_type": "code",
   "execution_count": 34,
   "id": "d7f4f530",
   "metadata": {},
   "outputs": [
    {
     "name": "stdout",
     "output_type": "stream",
     "text": [
      "+-------+-------------+\n",
      "|movieID|count(userID)|\n",
      "+-------+-------------+\n",
      "|     m1|            3|\n",
      "|     m2|            1|\n",
      "+-------+-------------+\n",
      "\n"
     ]
    }
   ],
   "source": [
    "df_groupby.show()"
   ]
  },
  {
   "cell_type": "markdown",
   "id": "fee72b91",
   "metadata": {},
   "source": [
    "c. The goal is to find the number of unique \n",
    "movies rated by each user. Write a complete \n",
    "PySpark program (as a set of trasformations \n",
    "and actions) to accomplish this task. Your \n",
    "output will be\n",
    "\n",
    "<userID> <number-of-unique-movies>\n",
    "    \n",
    "#output\n",
    " \n",
    "    User 1 - 2\n",
    "    User 2 - 1"
   ]
  },
  {
   "cell_type": "code",
   "execution_count": 35,
   "id": "ab091bac",
   "metadata": {},
   "outputs": [
    {
     "name": "stdout",
     "output_type": "stream",
     "text": [
      "+------+--------------+\n",
      "|userID|count(movieID)|\n",
      "+------+--------------+\n",
      "| user1|             2|\n",
      "| user2|             1|\n",
      "+------+--------------+\n",
      "\n"
     ]
    }
   ],
   "source": [
    "df.groupBy('userID').agg(f.countDistinct('movieID')).show()"
   ]
  },
  {
   "cell_type": "code",
   "execution_count": 36,
   "id": "8d7dda49",
   "metadata": {},
   "outputs": [
    {
     "name": "stdout",
     "output_type": "stream",
     "text": [
      "+----------+----------+\n",
      "|EmployeeID|      type|\n",
      "+----------+----------+\n",
      "|         1|  fulltime|\n",
      "|         2|  parttime|\n",
      "|         3|Contractor|\n",
      "|         4|Contractor|\n",
      "|         5|  fulltime|\n",
      "|         6|Contractor|\n",
      "|         7|  fulltime|\n",
      "|         8|  parttime|\n",
      "|         9|  parttime|\n",
      "|        10|  fulltime|\n",
      "|         1|  parttime|\n",
      "|         3|  parttime|\n",
      "|         7|  parttime|\n",
      "|         8|Contractor|\n",
      "+----------+----------+\n",
      "\n"
     ]
    }
   ],
   "source": [
    "data = [(\"1\", \"fulltime\"), (\"2\", \"parttime\"), (\"3\", \"Contractor\"), (\"4\", \"Contractor\"), (\"5\", \"fulltime\"), (\"6\", \"Contractor\"), \n",
    "        (\"7\", \"fulltime\"), (\"8\", \"parttime\"), (\"9\", \"parttime\"), (\"10\", \"fulltime\"), (\"1\", \"parttime\"), (\"3\", \"parttime\"),\n",
    "         (\"7\", \"parttime\"), (\"8\", \"Contractor\")]\n",
    "\n",
    "columns = [\"EmployeeID\", \"type\"]\n",
    "\n",
    "df = spark.createDataFrame(data=data, schema=columns)\n",
    "\n",
    "df.show()"
   ]
  },
  {
   "cell_type": "code",
   "execution_count": 37,
   "id": "54549d5e",
   "metadata": {},
   "outputs": [],
   "source": [
    "df2 = df.dropDuplicates([\"EmployeeID\"])"
   ]
  },
  {
   "cell_type": "code",
   "execution_count": 38,
   "id": "b07edcdd",
   "metadata": {},
   "outputs": [
    {
     "name": "stdout",
     "output_type": "stream",
     "text": [
      "+----------+----------+\n",
      "|EmployeeID|      type|\n",
      "+----------+----------+\n",
      "|         1|  fulltime|\n",
      "|        10|  fulltime|\n",
      "|         2|  parttime|\n",
      "|         3|Contractor|\n",
      "|         4|Contractor|\n",
      "|         5|  fulltime|\n",
      "|         6|Contractor|\n",
      "|         7|  fulltime|\n",
      "|         8|  parttime|\n",
      "|         9|  parttime|\n",
      "+----------+----------+\n",
      "\n"
     ]
    }
   ],
   "source": [
    "df2.sort('EmployeeID').show()"
   ]
  },
  {
   "cell_type": "code",
   "execution_count": 39,
   "id": "5c8c35c3",
   "metadata": {},
   "outputs": [
    {
     "name": "stdout",
     "output_type": "stream",
     "text": [
      "+----------+-----+\n",
      "|      type|Total|\n",
      "+----------+-----+\n",
      "|Contractor|    3|\n",
      "|  parttime|    3|\n",
      "|  fulltime|    4|\n",
      "+----------+-----+\n",
      "\n"
     ]
    }
   ],
   "source": [
    "df2.groupBy('type').agg(count('*'). alias(\"Total\")).show()"
   ]
  },
  {
   "cell_type": "code",
   "execution_count": 40,
   "id": "baddfdd5",
   "metadata": {},
   "outputs": [],
   "source": [
    "df = spark.read.text(\"/Users/C940/spark3/movies.txt\")"
   ]
  },
  {
   "cell_type": "code",
   "execution_count": 42,
   "id": "54b80599",
   "metadata": {},
   "outputs": [
    {
     "name": "stdout",
     "output_type": "stream",
     "text": [
      "+--------------+\n",
      "|         value|\n",
      "+--------------+\n",
      "|user1,movie1,3|\n",
      "|user1,movie1,1|\n",
      "|user1,movie2,5|\n",
      "|user2,movie1,4|\n",
      "+--------------+\n",
      "\n"
     ]
    }
   ],
   "source": [
    "df.show()"
   ]
  },
  {
   "cell_type": "code",
   "execution_count": 50,
   "id": "a5d35119",
   "metadata": {},
   "outputs": [],
   "source": [
    "df1 = df.withColumn('userID', split(df['value'], ',').getItem(0))\\\n",
    "                   .withColumn('movieID', split(df['value'], ',').getItem(1))\\\n",
    "                    .withColumn('Rating', split(df['value'], ',').getItem(2)).drop('value')\n",
    "                   "
   ]
  },
  {
   "cell_type": "code",
   "execution_count": 51,
   "id": "be90bcdb",
   "metadata": {},
   "outputs": [
    {
     "name": "stdout",
     "output_type": "stream",
     "text": [
      "+------+-------+------+\n",
      "|userID|movieID|Rating|\n",
      "+------+-------+------+\n",
      "| user1| movie1|     3|\n",
      "| user1| movie1|     1|\n",
      "| user1| movie2|     5|\n",
      "| user2| movie1|     4|\n",
      "+------+-------+------+\n",
      "\n"
     ]
    }
   ],
   "source": [
    "df1.show()"
   ]
  },
  {
   "cell_type": "code",
   "execution_count": 52,
   "id": "5df31007",
   "metadata": {},
   "outputs": [],
   "source": [
    "df_groupby = df1.groupBy('movieID').agg(count('userID'))"
   ]
  },
  {
   "cell_type": "code",
   "execution_count": 54,
   "id": "e02a844a",
   "metadata": {},
   "outputs": [
    {
     "name": "stdout",
     "output_type": "stream",
     "text": [
      "+-------+-------------+\n",
      "|movieID|count(userID)|\n",
      "+-------+-------------+\n",
      "| movie2|            1|\n",
      "| movie1|            3|\n",
      "+-------+-------------+\n",
      "\n"
     ]
    }
   ],
   "source": [
    "df_groupby.show()"
   ]
  },
  {
   "cell_type": "code",
   "execution_count": 55,
   "id": "1b1d95bf",
   "metadata": {},
   "outputs": [
    {
     "name": "stdout",
     "output_type": "stream",
     "text": [
      "+------+--------------+\n",
      "|userID|count(movieID)|\n",
      "+------+--------------+\n",
      "| user1|             2|\n",
      "| user2|             1|\n",
      "+------+--------------+\n",
      "\n"
     ]
    }
   ],
   "source": [
    "df1.groupBy('userID').agg(f.countDistinct('movieID')).show()"
   ]
  },
  {
   "cell_type": "code",
   "execution_count": 56,
   "id": "f8508637",
   "metadata": {},
   "outputs": [],
   "source": [
    "df = spark.read.text(\"/Users/C940/spark3/movie.txt\")"
   ]
  },
  {
   "cell_type": "code",
   "execution_count": 57,
   "id": "bcde599c",
   "metadata": {},
   "outputs": [
    {
     "name": "stdout",
     "output_type": "stream",
     "text": [
      "+--------+\n",
      "|   value|\n",
      "+--------+\n",
      "|movie1,3|\n",
      "|movie1,1|\n",
      "|movie1,5|\n",
      "|movie2,5|\n",
      "|movie2,4|\n",
      "|movie2,3|\n",
      "+--------+\n",
      "\n"
     ]
    }
   ],
   "source": [
    "df.show()"
   ]
  },
  {
   "cell_type": "code",
   "execution_count": 58,
   "id": "4c635822",
   "metadata": {},
   "outputs": [],
   "source": [
    "df2 = df.withColumn('movieID', split(df['value'], ',').getItem(0))\\\n",
    "                   .withColumn('Rating', split(df['value'], ',').getItem(1))\\\n",
    "                    .drop('value')"
   ]
  },
  {
   "cell_type": "code",
   "execution_count": 59,
   "id": "411f8f53",
   "metadata": {},
   "outputs": [
    {
     "name": "stdout",
     "output_type": "stream",
     "text": [
      "+-------+------+\n",
      "|movieID|Rating|\n",
      "+-------+------+\n",
      "| movie1|     3|\n",
      "| movie1|     1|\n",
      "| movie1|     5|\n",
      "| movie2|     5|\n",
      "| movie2|     4|\n",
      "| movie2|     3|\n",
      "+-------+------+\n",
      "\n"
     ]
    }
   ],
   "source": [
    "df2.show()"
   ]
  },
  {
   "cell_type": "code",
   "execution_count": 61,
   "id": "d871a7ce",
   "metadata": {},
   "outputs": [
    {
     "name": "stdout",
     "output_type": "stream",
     "text": [
      "+-------+---------------+\n",
      "|movieID|count of raters|\n",
      "+-------+---------------+\n",
      "| movie2|              3|\n",
      "| movie1|              3|\n",
      "+-------+---------------+\n",
      "\n"
     ]
    }
   ],
   "source": [
    "df2.groupBy('movieID').agg(count('Rating').alias('count of raters')).show()"
   ]
  },
  {
   "cell_type": "code",
   "execution_count": 63,
   "id": "5502110f",
   "metadata": {},
   "outputs": [
    {
     "name": "stdout",
     "output_type": "stream",
     "text": [
      "+-------+-----------+\n",
      "|movieID|avg(Rating)|\n",
      "+-------+-----------+\n",
      "| movie2|        4.0|\n",
      "| movie1|        3.0|\n",
      "+-------+-----------+\n",
      "\n"
     ]
    }
   ],
   "source": [
    "df2.groupBy('movieID').agg({'Rating': 'mean'}).show()"
   ]
  },
  {
   "cell_type": "code",
   "execution_count": 110,
   "id": "25569d8a",
   "metadata": {},
   "outputs": [],
   "source": [
    "df = spark.read.text(\"/Users/C940/spark3/geneval.txt\")"
   ]
  },
  {
   "cell_type": "code",
   "execution_count": 111,
   "id": "54b29337",
   "metadata": {},
   "outputs": [
    {
     "name": "stdout",
     "output_type": "stream",
     "text": [
      "+---------+\n",
      "|    value|\n",
      "+---------+\n",
      "| 1,g1,2.3|\n",
      "| 2,g1,1.5|\n",
      "| 3,g1,2.5|\n",
      "|3,g1,-2.4|\n",
      "| 1,g1,4.1|\n",
      "|1,g1,-2.0|\n",
      "| 1,g2,1.3|\n",
      "| 2,g2,1.8|\n",
      "| 3,g2,3.5|\n",
      "|1,g2,-0.5|\n",
      "| 1,g2,4.3|\n",
      "| 1,g2,2.9|\n",
      "|1,g2,-3.0|\n",
      "+---------+\n",
      "\n"
     ]
    }
   ],
   "source": [
    "df.show()"
   ]
  },
  {
   "cell_type": "code",
   "execution_count": 115,
   "id": "06c3ec86",
   "metadata": {},
   "outputs": [],
   "source": [
    "df3 = df.withColumn('recordNumber', split(df['value'], ',').getItem(0))\\\n",
    "                   .withColumn('geneID', split(df['value'], ',').getItem(1))\\\n",
    "                    .withColumn('geneValue', split(df['value'], ',').getItem(2)).drop('value')"
   ]
  },
  {
   "cell_type": "code",
   "execution_count": 116,
   "id": "77885ca3",
   "metadata": {},
   "outputs": [
    {
     "name": "stdout",
     "output_type": "stream",
     "text": [
      "+------------+------+---------+\n",
      "|recordNumber|geneID|geneValue|\n",
      "+------------+------+---------+\n",
      "|           1|    g1|      2.3|\n",
      "|           2|    g1|      1.5|\n",
      "|           3|    g1|      2.5|\n",
      "|           3|    g1|     -2.4|\n",
      "|           1|    g1|      4.1|\n",
      "|           1|    g1|     -2.0|\n",
      "|           1|    g2|      1.3|\n",
      "|           2|    g2|      1.8|\n",
      "|           3|    g2|      3.5|\n",
      "|           1|    g2|     -0.5|\n",
      "|           1|    g2|      4.3|\n",
      "|           1|    g2|      2.9|\n",
      "|           1|    g2|     -3.0|\n",
      "+------------+------+---------+\n",
      "\n"
     ]
    }
   ],
   "source": [
    "df3.show()"
   ]
  },
  {
   "cell_type": "code",
   "execution_count": 117,
   "id": "8ebac5b8",
   "metadata": {},
   "outputs": [
    {
     "name": "stdout",
     "output_type": "stream",
     "text": [
      "+------+------------------+\n",
      "|geneID|    avg(geneValue)|\n",
      "+------+------------------+\n",
      "|    g2|1.4714285714285713|\n",
      "|    g1|               1.0|\n",
      "+------+------------------+\n",
      "\n"
     ]
    }
   ],
   "source": [
    "df3.groupBy(\"geneID\").agg({'geneValue': 'mean'}).show()"
   ]
  },
  {
   "cell_type": "code",
   "execution_count": 118,
   "id": "0972f31a",
   "metadata": {},
   "outputs": [
    {
     "name": "stdout",
     "output_type": "stream",
     "text": [
      "+------+--------------+--------------+\n",
      "|geneID|min(geneValue)|max(geneValue)|\n",
      "+------+--------------+--------------+\n",
      "|    g1|          -2.0|           4.1|\n",
      "|    g2|          -0.5|           4.3|\n",
      "+------+--------------+--------------+\n",
      "\n"
     ]
    }
   ],
   "source": [
    "df3.groupBy(\"geneID\").agg(min(\"geneValue\"), max(\"geneValue\")).show()"
   ]
  },
  {
   "cell_type": "code",
   "execution_count": 123,
   "id": "087f0915",
   "metadata": {},
   "outputs": [
    {
     "name": "stdout",
     "output_type": "stream",
     "text": [
      "+------+--------------+\n",
      "|geneID|min(geneValue)|\n",
      "+------+--------------+\n",
      "|    g1|          -2.0|\n",
      "|    g2|          -0.5|\n",
      "+------+--------------+\n",
      "\n"
     ]
    }
   ],
   "source": [
    "df3.groupBy('geneID').agg({'geneValue': 'min'}).show()"
   ]
  },
  {
   "cell_type": "code",
   "execution_count": 125,
   "id": "8b9d9f58",
   "metadata": {},
   "outputs": [
    {
     "name": "stdout",
     "output_type": "stream",
     "text": [
      "+------------+------+---------+\n",
      "|recordNumber|geneID|geneValue|\n",
      "+------------+------+---------+\n",
      "|           1|    g1|      2.3|\n",
      "|           2|    g1|      1.5|\n",
      "|           3|    g1|      2.5|\n",
      "|           1|    g1|      4.1|\n",
      "|           1|    g2|      1.3|\n",
      "|           2|    g2|      1.8|\n",
      "|           3|    g2|      3.5|\n",
      "|           1|    g2|      4.3|\n",
      "|           1|    g2|      2.9|\n",
      "+------------+------+---------+\n",
      "\n"
     ]
    }
   ],
   "source": [
    "df3.filter(df3.geneValue > 0).show()"
   ]
  },
  {
   "cell_type": "code",
   "execution_count": 126,
   "id": "53199260",
   "metadata": {},
   "outputs": [],
   "source": [
    "df = spark.read.text(\"/Users/C940/spark3/geneval.txt\")"
   ]
  },
  {
   "cell_type": "code",
   "execution_count": 127,
   "id": "d351e8d6",
   "metadata": {},
   "outputs": [],
   "source": [
    "df4 = df.withColumn('recordNumber', split(df['value'], ',').getItem(0))\\\n",
    "                   .withColumn('geneID', split(df['value'], ',').getItem(1))\\\n",
    "                    .withColumn('geneValue', split(df['value'], ',').getItem(2)).drop('value')"
   ]
  },
  {
   "cell_type": "code",
   "execution_count": 130,
   "id": "b5c6ee13",
   "metadata": {},
   "outputs": [
    {
     "name": "stdout",
     "output_type": "stream",
     "text": [
      "+------+---------+\n",
      "|geneID|geneValue|\n",
      "+------+---------+\n",
      "|    g1|      2.3|\n",
      "|    g1|      1.5|\n",
      "|    g1|      2.5|\n",
      "|    g1|     -2.4|\n",
      "|    g1|      4.1|\n",
      "|    g1|     -2.0|\n",
      "|    g2|      1.3|\n",
      "|    g2|      1.8|\n",
      "|    g2|      3.5|\n",
      "|    g2|     -0.5|\n",
      "|    g2|      4.3|\n",
      "|    g2|      2.9|\n",
      "|    g2|     -3.0|\n",
      "+------+---------+\n",
      "\n"
     ]
    }
   ],
   "source": [
    "df4.drop('recordNumber').show()"
   ]
  },
  {
   "cell_type": "code",
   "execution_count": 151,
   "id": "83cdda6b",
   "metadata": {},
   "outputs": [
    {
     "name": "stdout",
     "output_type": "stream",
     "text": [
      "+------+------------------------------------------+\n",
      "|geneID|percentile_approx(geneValue, 0.5, 1000000)|\n",
      "+------+------------------------------------------+\n",
      "|    g2|                                       1.8|\n",
      "|    g1|                                       1.5|\n",
      "+------+------------------------------------------+\n",
      "\n"
     ]
    }
   ],
   "source": [
    "df4.groupBy('geneID').agg(f.percentile_approx(\"geneValue\", 0.5, f.lit(1000000))).show()"
   ]
  },
  {
   "cell_type": "code",
   "execution_count": 171,
   "id": "4a290805",
   "metadata": {},
   "outputs": [],
   "source": [
    "def pos(geneValue): \n",
    "    return geneValue[geneValue > 0]\n",
    "  \n",
    "def neg(geneValue): \n",
    "    return geneValue[geneValue < 0]"
   ]
  },
  {
   "cell_type": "code",
   "execution_count": null,
   "id": "fa85051b",
   "metadata": {},
   "outputs": [],
   "source": []
  }
 ],
 "metadata": {
  "kernelspec": {
   "display_name": "Python 3 (ipykernel)",
   "language": "python",
   "name": "python3"
  },
  "language_info": {
   "codemirror_mode": {
    "name": "ipython",
    "version": 3
   },
   "file_extension": ".py",
   "mimetype": "text/x-python",
   "name": "python",
   "nbconvert_exporter": "python",
   "pygments_lexer": "ipython3",
   "version": "3.9.7"
  }
 },
 "nbformat": 4,
 "nbformat_minor": 5
}
