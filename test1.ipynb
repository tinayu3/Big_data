{
 "cells": [
  {
   "cell_type": "code",
   "execution_count": 1,
   "id": "3dfdc44f",
   "metadata": {},
   "outputs": [],
   "source": [
    "#importing findspark\n",
    "import findspark\n",
    "findspark.init()"
   ]
  },
  {
   "cell_type": "code",
   "execution_count": 2,
   "id": "88362279",
   "metadata": {},
   "outputs": [],
   "source": [
    "# create a SparkSession object\n",
    "from pyspark.sql import SparkSession\n",
    "spark = SparkSession.builder.master(\"local\").appName(\"white-house-log\").getOrCreate()"
   ]
  },
  {
   "cell_type": "code",
   "execution_count": 3,
   "id": "b43f1d61",
   "metadata": {},
   "outputs": [],
   "source": [
    "# To assign the file location into sys.argv[1]\n",
    "input_path = (r\"C:\\Users\\C940\\spark3\\whitehouselog.csv\")"
   ]
  },
  {
   "cell_type": "code",
   "execution_count": 4,
   "id": "0a0f0a62",
   "metadata": {},
   "outputs": [],
   "source": [
    "# records is an RDD[String] for all of the input\n",
    "records = spark.sparkContext.textFile(input_path) "
   ]
  },
  {
   "cell_type": "code",
   "execution_count": 5,
   "id": "dca15d89",
   "metadata": {},
   "outputs": [
    {
     "data": {
      "text/plain": [
       "970505"
      ]
     },
     "execution_count": 5,
     "metadata": {},
     "output_type": "execute_result"
    }
   ],
   "source": [
    "# count of records\n",
    "records.count()"
   ]
  },
  {
   "cell_type": "code",
   "execution_count": 6,
   "id": "98296016",
   "metadata": {},
   "outputs": [
    {
     "data": {
      "text/plain": [
       "'NAMELAST,NAMEFIRST,NAMEMID,UIN,BDGNBR,ACCESS_TYPE,TOA,POA,TOD,POD,APPT_MADE_DATE,APPT_START_DATE,APPT_END_DATE,APPT_CANCEL_DATE,Total_People,LAST_UPDATEDBY,POST,LASTENTRYDATE,TERMINAL_SUFFIX,visitee_namelast,visitee_namefirst,MEETING_LOC,MEETING_ROOM,CALLER_NAME_LAST,CALLER_NAME_FIRST,CALLER_ROOM,DESCRIPTION,Release_Date'"
      ]
     },
     "execution_count": 6,
     "metadata": {},
     "output_type": "execute_result"
    }
   ],
   "source": [
    "# The first row of records\n",
    "records.first()"
   ]
  },
  {
   "cell_type": "code",
   "execution_count": 9,
   "id": "2bb14e8c",
   "metadata": {},
   "outputs": [
    {
     "name": "stdout",
     "output_type": "stream",
     "text": [
      "The data has 28 columns\n"
     ]
    },
    {
     "data": {
      "text/plain": [
       "[(0, 'NAMELAST'),\n",
       " (1, 'NAMEFIRST'),\n",
       " (2, 'NAMEMID'),\n",
       " (3, 'UIN'),\n",
       " (4, 'BDGNBR'),\n",
       " (5, 'ACCESS_TYPE'),\n",
       " (6, 'TOA'),\n",
       " (7, 'POA'),\n",
       " (8, 'TOD'),\n",
       " (9, 'POD'),\n",
       " (10, 'APPT_MADE_DATE'),\n",
       " (11, 'APPT_START_DATE'),\n",
       " (12, 'APPT_END_DATE'),\n",
       " (13, 'APPT_CANCEL_DATE'),\n",
       " (14, 'Total_People'),\n",
       " (15, 'LAST_UPDATEDBY'),\n",
       " (16, 'POST'),\n",
       " (17, 'LASTENTRYDATE'),\n",
       " (18, 'TERMINAL_SUFFIX'),\n",
       " (19, 'visitee_namelast'),\n",
       " (20, 'visitee_namefirst'),\n",
       " (21, 'MEETING_LOC'),\n",
       " (22, 'MEETING_ROOM'),\n",
       " (23, 'CALLER_NAME_LAST'),\n",
       " (24, 'CALLER_NAME_FIRST'),\n",
       " (25, 'CALLER_ROOM'),\n",
       " (26, 'DESCRIPTION'),\n",
       " (27, 'Release_Date')]"
      ]
     },
     "execution_count": 9,
     "metadata": {},
     "output_type": "execute_result"
    }
   ],
   "source": [
    "#To print out data columns/headers and have an index number to track the header index\n",
    "print(\"The data has {} columns\".format(len(records.first().split(\",\"))))\n",
    "list(enumerate(records.first().split(\",\")))"
   ]
  },
  {
   "cell_type": "code",
   "execution_count": 10,
   "id": "71dd4f57",
   "metadata": {},
   "outputs": [],
   "source": [
    "#To assign the header to be records.first() and to separate content information and header information\n",
    "header = records.first()\n",
    "content = records.filter(lambda x: x != header)"
   ]
  },
  {
   "cell_type": "code",
   "execution_count": 11,
   "id": "64423490",
   "metadata": {},
   "outputs": [
    {
     "data": {
      "text/plain": [
       "'TAJOURIBESSASSI,HANENE,,U22101,,VA,,,,,9/2/2015 0:00,10/1/2015 3:00,10/1/2015 23:59,,1,AR,WIN,9/2/2015 11:38,AR,Pelofsky,Eric,OEOB,226,ROWBERRY,ARIANA,,,1/29/2016'"
      ]
     },
     "execution_count": 11,
     "metadata": {},
     "output_type": "execute_result"
    }
   ],
   "source": [
    "#To see the first row of content\n",
    "content.first()"
   ]
  },
  {
   "cell_type": "markdown",
   "id": "6eb4a51d",
   "metadata": {},
   "source": [
    "## a) To retrieve Top 10 frequent visitors to whitehouse"
   ]
  },
  {
   "cell_type": "code",
   "execution_count": 12,
   "id": "9b312cc7",
   "metadata": {},
   "outputs": [],
   "source": [
    "#To filter out empty or null NAMELAST and visitee namelast column\n",
    "content2 = (content.filter(lambda x: x.split(\",\")[0] != ''))\n",
    "content3 = (content2.filter(lambda y: y.split(\",\")[19] != ''))"
   ]
  },
  {
   "cell_type": "code",
   "execution_count": 13,
   "id": "7433e839",
   "metadata": {},
   "outputs": [
    {
     "data": {
      "text/plain": [
       "911249"
      ]
     },
     "execution_count": 13,
     "metadata": {},
     "output_type": "execute_result"
    }
   ],
   "source": [
    "# To view the count of content after filtering empty or null NAMELAST column\n",
    "content3.count()"
   ]
  },
  {
   "cell_type": "code",
   "execution_count": 14,
   "id": "78094375",
   "metadata": {},
   "outputs": [],
   "source": [
    "#To tokenize the record to get output key and value (K,V) pair for Namelast and Namefirst\n",
    "def tokenize(record):\n",
    "    tokens = record.split(\",\")\n",
    "    NAMELAST = tokens[0].upper()\n",
    "    NAMEFIRST = tokens[1].upper()\n",
    "    output_key = \"(\" + NAMELAST + \" \" + NAMEFIRST + \")\"\n",
    "    output_val = 1\n",
    "    return(output_key, output_val)"
   ]
  },
  {
   "cell_type": "code",
   "execution_count": 15,
   "id": "f50be9aa",
   "metadata": {},
   "outputs": [],
   "source": [
    "# Map the tokenize function to content 3 records\n",
    "pairs = content3.map(tokenize)"
   ]
  },
  {
   "cell_type": "code",
   "execution_count": 16,
   "id": "e9ae38c8",
   "metadata": {},
   "outputs": [],
   "source": [
    "#To sum the values of each name records and find the count/frequency of visitor names appearing in the data\n",
    "pairs_count = pairs.reduceByKey(lambda x,y : x+y)"
   ]
  },
  {
   "cell_type": "code",
   "execution_count": 17,
   "id": "4047772e",
   "metadata": {},
   "outputs": [],
   "source": [
    "#To retrieve the top 10 visitor records in descending order\n",
    "x = pairs_count.takeOrdered(10, lambda x : -x[1])"
   ]
  },
  {
   "cell_type": "code",
   "execution_count": 18,
   "id": "c19f1c24",
   "metadata": {},
   "outputs": [
    {
     "name": "stdout",
     "output_type": "stream",
     "text": [
      "**    Top 10 vistors   **\n",
      "< Visitor > , < Frequency > :\n"
     ]
    },
    {
     "data": {
      "text/plain": [
       "[('(KIDWELL LAUREN)', 222),\n",
       " ('(THOMAS BENJAMIN)', 196),\n",
       " ('(HARO STEVEN)', 183),\n",
       " ('(BERNER KATHERINE)', 177),\n",
       " ('(GRANT PATRICK)', 155),\n",
       " ('(HAAS JORDAN)', 152),\n",
       " ('(GARZA STEVEN)', 127),\n",
       " ('(MARTIN KATHRYN)', 122),\n",
       " ('(COHEN MANDY)', 122),\n",
       " ('(BROWN JENNIFER)', 117)]"
      ]
     },
     "execution_count": 18,
     "metadata": {},
     "output_type": "execute_result"
    }
   ],
   "source": [
    "# To print out the header and display the top 10 visitor records\n",
    "print(\"**    Top 10 vistors   **\")\n",
    "print(\"< Visitor > , < Frequency > :\")\n",
    "x"
   ]
  },
  {
   "cell_type": "markdown",
   "id": "f5353d1f",
   "metadata": {},
   "source": [
    "## b) To retrieve Top 10 frequent visitee to whitehouse"
   ]
  },
  {
   "cell_type": "code",
   "execution_count": 19,
   "id": "772b9459",
   "metadata": {},
   "outputs": [],
   "source": [
    "#To tokenize the record to get output key and value (K,V) pair for visitee last name and visitee first name\n",
    "def tokenize2(record):\n",
    "    tokens = record.split(\",\")\n",
    "    visitee_namelast = tokens[19].upper()\n",
    "    visitee_namefirst = tokens[20].upper()\n",
    "    output_key = \"(\" + visitee_namelast + \" \" + visitee_namefirst + \")\"\n",
    "    output_val = 1\n",
    "    return(output_key, output_val)"
   ]
  },
  {
   "cell_type": "code",
   "execution_count": 20,
   "id": "3b1e0a63",
   "metadata": {},
   "outputs": [],
   "source": [
    "# Map the tokenize2 function to content 3 records\n",
    "pairs_visitee = content3.map(tokenize2)"
   ]
  },
  {
   "cell_type": "code",
   "execution_count": 21,
   "id": "e040920d",
   "metadata": {},
   "outputs": [],
   "source": [
    "#To sum the values of each name records and find the count/frequency of visitee names appearing in the data\n",
    "pairs_count_visitee = pairs_visitee.reduceByKey(lambda x,y : x+y)"
   ]
  },
  {
   "cell_type": "code",
   "execution_count": 22,
   "id": "f4fe1fa8",
   "metadata": {},
   "outputs": [],
   "source": [
    "#To retrieve the top 10 visitee records in descending order\n",
    "y = pairs_count_visitee.takeOrdered(10, lambda x : -x[1])"
   ]
  },
  {
   "cell_type": "code",
   "execution_count": 23,
   "id": "5cf56dd3",
   "metadata": {},
   "outputs": [
    {
     "name": "stdout",
     "output_type": "stream",
     "text": [
      "**    Top 10 visitee   **\n",
      "< Visitee > , < Frequency > :\n"
     ]
    },
    {
     "data": {
      "text/plain": [
       "[('(OFFICE VISITORS)', 430881),\n",
       " ('(WAVES VISITORSOFFICE)', 44129),\n",
       " ('(BRYANT RUTH)', 13970),\n",
       " ('(ONEIL OLIVIA)', 13155),\n",
       " ('(THOMPSON JARED)', 11618),\n",
       " ('(/ POTUS)', 10900),\n",
       " ('(BURTON COLLIN)', 9672),\n",
       " ('(MEGAN MATTHEW)', 7944),\n",
       " ('(MAYERSON ASHER)', 6886),\n",
       " ('(DESSOURCES KALISHA)', 5289)]"
      ]
     },
     "execution_count": 23,
     "metadata": {},
     "output_type": "execute_result"
    }
   ],
   "source": [
    "# To print out the header and display the top 10 visitee records\n",
    "print(\"**    Top 10 visitee   **\")\n",
    "print(\"< Visitee > , < Frequency > :\")\n",
    "y"
   ]
  },
  {
   "cell_type": "markdown",
   "id": "826a7849",
   "metadata": {},
   "source": [
    "## c) To retrieve the Top 10 frequent visitor-visitee combinations in whitehouse"
   ]
  },
  {
   "cell_type": "code",
   "execution_count": 24,
   "id": "6fa75970",
   "metadata": {},
   "outputs": [],
   "source": [
    "#To tokenize record to get output key and value (K,V) pair for NAMELAST, NAMEFIRST visitee last name and visitee first name\n",
    "def tokenize3(record):\n",
    "    tokens = record.split(\",\")\n",
    "    NAMELAST = tokens[0].upper()\n",
    "    NAMEFIRST = tokens[1].upper()\n",
    "    visitee_namelast = tokens[19].upper()\n",
    "    visitee_namefirst = tokens[20].upper()\n",
    "    output_key = \"(\"+ NAMELAST+ \" \" + NAMEFIRST + \"  -  \" + visitee_namelast + \" \" + visitee_namefirst + \")\"\n",
    "    output_val = 1\n",
    "    return(output_key, output_val)"
   ]
  },
  {
   "cell_type": "code",
   "execution_count": 25,
   "id": "c224c282",
   "metadata": {},
   "outputs": [],
   "source": [
    "# Map the tokenize3 function to content 3 records\n",
    "pairs_visitor_visitee = content3.map(tokenize3)"
   ]
  },
  {
   "cell_type": "code",
   "execution_count": 26,
   "id": "4e3d9c55",
   "metadata": {},
   "outputs": [],
   "source": [
    "#To sum the values of each name records and find the count/frequency of visitor-visitee names appearing in the data\n",
    "pairs_count_vistor_visitee = pairs_visitor_visitee.reduceByKey(lambda x,y : x+y)"
   ]
  },
  {
   "cell_type": "code",
   "execution_count": 27,
   "id": "1148bd3c",
   "metadata": {},
   "outputs": [],
   "source": [
    "#To retrieve the top 10 visitor-visitee records in descending order\n",
    "z = pairs_count_vistor_visitee.takeOrdered(10, lambda x : -x[1])"
   ]
  },
  {
   "cell_type": "code",
   "execution_count": 28,
   "id": "00895fa4",
   "metadata": {},
   "outputs": [
    {
     "name": "stdout",
     "output_type": "stream",
     "text": [
      "**  Top 10 visitor-visitee combinations   **\n",
      "    < Visitor - Visitee > , < Frequency > :\n"
     ]
    },
    {
     "data": {
      "text/plain": [
       "[('(KIDWELL LAUREN  -  YUDELSON ALEX)', 103),\n",
       " ('(HAAS JORDAN  -  YUDELSON ALEX)', 90),\n",
       " ('(GRANT PATRICK  -  YUDELSON ALEX)', 89),\n",
       " ('(THOMAS BENJAMIN  -  YUDELSON ALEX)', 89),\n",
       " ('(HARO STEVEN  -  YUDELSON ALEX)', 84),\n",
       " ('(COHEN MANDY  -  LAMBREW JEANNE)', 84),\n",
       " ('(BERNER KATHERINE  -  YUDELSON ALEX)', 82),\n",
       " ('(ROCHE SHANNON  -  YUDELSON ALEX)', 70),\n",
       " ('(URIZAR JENNIFER  -  JOHNSON KATIE)', 68),\n",
       " ('(MARTIN KATHRYN  -  LAMBREW JEANNE)', 61)]"
      ]
     },
     "execution_count": 28,
     "metadata": {},
     "output_type": "execute_result"
    }
   ],
   "source": [
    "# To print out the header and display the top 10 visitor-visitee records\n",
    "print(\"**  Top 10 visitor-visitee combinations   **\")\n",
    "print(\"    < Visitor - Visitee > , < Frequency > :\" )\n",
    "z"
   ]
  },
  {
   "cell_type": "markdown",
   "id": "5500e1a2",
   "metadata": {},
   "source": [
    "# d) Number of records dropped from the data"
   ]
  },
  {
   "cell_type": "code",
   "execution_count": 1,
   "id": "f3a852f3",
   "metadata": {},
   "outputs": [
    {
     "ename": "NameError",
     "evalue": "name 'records' is not defined",
     "output_type": "error",
     "traceback": [
      "\u001b[1;31m---------------------------------------------------------------------------\u001b[0m",
      "\u001b[1;31mNameError\u001b[0m                                 Traceback (most recent call last)",
      "\u001b[1;32m~\\AppData\\Local\\Temp/ipykernel_53584/2915235404.py\u001b[0m in \u001b[0;36m<module>\u001b[1;34m\u001b[0m\n\u001b[0;32m      1\u001b[0m \u001b[1;31m#Total number of records including header subtracting the total records of content3\u001b[0m\u001b[1;33m\u001b[0m\u001b[1;33m\u001b[0m\u001b[0m\n\u001b[1;32m----> 2\u001b[1;33m \u001b[0ma\u001b[0m \u001b[1;33m=\u001b[0m \u001b[0mrecords\u001b[0m\u001b[1;33m.\u001b[0m\u001b[0mcount\u001b[0m\u001b[1;33m(\u001b[0m\u001b[1;33m)\u001b[0m \u001b[1;33m-\u001b[0m \u001b[0mcontent3\u001b[0m\u001b[1;33m.\u001b[0m\u001b[0mcount\u001b[0m\u001b[1;33m(\u001b[0m\u001b[1;33m)\u001b[0m\u001b[1;33m\u001b[0m\u001b[1;33m\u001b[0m\u001b[0m\n\u001b[0m",
      "\u001b[1;31mNameError\u001b[0m: name 'records' is not defined"
     ]
    }
   ],
   "source": [
    "#Total number of records including header subtracting the total records of content3\n",
    "a = records.count() - content3.count()"
   ]
  },
  {
   "cell_type": "code",
   "execution_count": 30,
   "id": "c13811d4",
   "metadata": {},
   "outputs": [
    {
     "data": {
      "text/plain": [
       "59256"
      ]
     },
     "execution_count": 30,
     "metadata": {},
     "output_type": "execute_result"
    }
   ],
   "source": [
    "#output of number of records dropped\n",
    "a"
   ]
  },
  {
   "cell_type": "markdown",
   "id": "841d91bf",
   "metadata": {},
   "source": [
    "# To stop spark session"
   ]
  },
  {
   "cell_type": "code",
   "execution_count": 31,
   "id": "d12d1c5d",
   "metadata": {},
   "outputs": [],
   "source": [
    "#Stop spark session\n",
    "spark.stop()"
   ]
  }
 ],
 "metadata": {
  "kernelspec": {
   "display_name": "Python 3 (ipykernel)",
   "language": "python",
   "name": "python3"
  },
  "language_info": {
   "codemirror_mode": {
    "name": "ipython",
    "version": 3
   },
   "file_extension": ".py",
   "mimetype": "text/x-python",
   "name": "python",
   "nbconvert_exporter": "python",
   "pygments_lexer": "ipython3",
   "version": "3.9.7"
  }
 },
 "nbformat": 4,
 "nbformat_minor": 5
}
